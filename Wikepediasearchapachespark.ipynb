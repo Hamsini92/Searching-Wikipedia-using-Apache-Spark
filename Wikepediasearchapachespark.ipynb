{
 "cells": [
  {
   "cell_type": "code",
   "execution_count": 6,
   "metadata": {
    "collapsed": true
   },
   "outputs": [],
   "source": [
    "from pyspark import SparkConf, SparkContext\n",
    "from pyspark.mllib.feature import HashingTF\n",
    "from pyspark.mllib.feature import IDF"
   ]
  },
  {
   "cell_type": "code",
   "execution_count": 18,
   "metadata": {},
   "outputs": [],
   "source": [
    "#Boilerplate spark stuff \n",
    "conf = SparkConf().setMaster(\"local\").setAppName(\"sparkTFIDF\")\n"
   ]
  },
  {
   "cell_type": "code",
   "execution_count": 9,
   "metadata": {
    "collapsed": true
   },
   "outputs": [],
   "source": [
    "rawData = sc.textFile(\"/Users/hamsinisankaran/Downloads/DataScience-Python3/subset-small.tsv\")"
   ]
  },
  {
   "cell_type": "code",
   "execution_count": 10,
   "metadata": {
    "collapsed": true
   },
   "outputs": [],
   "source": [
    "#load documents one per line \n",
    "fields = rawData.map(lambda x: x.split(\"\\t\"))\n",
    "documents = fields.map(lambda x: x[3].split(\" \"))"
   ]
  },
  {
   "cell_type": "code",
   "execution_count": 11,
   "metadata": {
    "collapsed": true
   },
   "outputs": [],
   "source": [
    "#store the documents name for later \n",
    "documentNames = fields.map(lambda x: x[1])"
   ]
  },
  {
   "cell_type": "code",
   "execution_count": 12,
   "metadata": {
    "collapsed": true
   },
   "outputs": [],
   "source": [
    "# Now hash the words in each document to their term frequencies:\n",
    "hashingTF = HashingTF(100000)  #100K hash buckets just to save some memory\n",
    "tf = hashingTF.transform(documents)"
   ]
  },
  {
   "cell_type": "code",
   "execution_count": 13,
   "metadata": {
    "collapsed": true
   },
   "outputs": [],
   "source": [
    "# At this point we have an RDD of sparse vectors representing each document,\n",
    "# where each value maps to the term frequency of each unique hash value.\n",
    "\n",
    "# Let's compute the TF*IDF of each term in each document:\n",
    "tf.cache()\n",
    "idf = IDF(minDocFreq=2).fit(tf)\n",
    "tfidf = idf.transform(tf)"
   ]
  },
  {
   "cell_type": "code",
   "execution_count": 14,
   "metadata": {
    "collapsed": true
   },
   "outputs": [],
   "source": [
    "# Now we have an RDD of sparse vectors, where each value is the TFxIDF\n",
    "# of each unique hash value for each document.\n",
    "\n",
    "# I happen to know that the article for \"Abraham Lincoln\" is in our data\n",
    "# set, so let's search for \"Gettysburg\" (Lincoln gave a famous speech there):\n",
    "\n",
    "# First, let's figure out what hash value \"Gettysburg\" maps to by finding the\n",
    "# index a sparse vector from HashingTF gives us back:\n",
    "gettysburgTF = hashingTF.transform([\"Gettysburg\"])\n",
    "gettysburgHashValue = int(gettysburgTF.indices[0])"
   ]
  },
  {
   "cell_type": "code",
   "execution_count": 15,
   "metadata": {
    "collapsed": true
   },
   "outputs": [],
   "source": [
    "# Now we will extract the TF*IDF score for Gettsyburg's hash value into\n",
    "# a new RDD for each document:\n",
    "gettysburgRelevance = tfidf.map(lambda x: x[gettysburgHashValue])"
   ]
  },
  {
   "cell_type": "code",
   "execution_count": 16,
   "metadata": {
    "collapsed": true
   },
   "outputs": [],
   "source": [
    "# We'll zip in the document names so we can see which is which:\n",
    "zippedResults = gettysburgRelevance.zip(documentNames)"
   ]
  },
  {
   "cell_type": "code",
   "execution_count": 17,
   "metadata": {},
   "outputs": [
    {
     "name": "stdout",
     "output_type": "stream",
     "text": [
      "Best document for Gettysburg is:\n",
      "(33.13476250917198, 'Abraham Lincoln')\n"
     ]
    }
   ],
   "source": [
    "# And, print the document with the maximum TF*IDF value:\n",
    "print(\"Best document for Gettysburg is:\")\n",
    "print(zippedResults.max())"
   ]
  },
  {
   "cell_type": "code",
   "execution_count": null,
   "metadata": {
    "collapsed": true
   },
   "outputs": [],
   "source": []
  }
 ],
 "metadata": {
  "kernelspec": {
   "display_name": "Python 3",
   "language": "python",
   "name": "python3"
  },
  "language_info": {
   "codemirror_mode": {
    "name": "ipython",
    "version": 3
   },
   "file_extension": ".py",
   "mimetype": "text/x-python",
   "name": "python",
   "nbconvert_exporter": "python",
   "pygments_lexer": "ipython3",
   "version": "3.6.3"
  }
 },
 "nbformat": 4,
 "nbformat_minor": 2
}
